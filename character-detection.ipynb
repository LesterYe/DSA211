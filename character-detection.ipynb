{
  "nbformat": 4,
  "nbformat_minor": 0,
  "metadata": {
    "kernelspec": {
      "language": "python",
      "display_name": "Python 3",
      "name": "python3"
    },
    "language_info": {
      "name": "python",
      "version": "3.7.9",
      "mimetype": "text/x-python",
      "codemirror_mode": {
        "name": "ipython",
        "version": 3
      },
      "pygments_lexer": "ipython3",
      "nbconvert_exporter": "python",
      "file_extension": ".py"
    },
    "colab": {
      "name": "character-detection.ipynb",
      "provenance": []
    }
  },
  "cells": [
    {
      "cell_type": "code",
      "metadata": {
        "_uuid": "8f2839f25d086af736a60e9eeb907d3b93b6e0e5",
        "_cell_guid": "b1076dfc-b9ad-4769-8c92-a6c4dae69d19",
        "execution": {
          "iopub.status.busy": "2021-06-27T15:55:43.368602Z",
          "iopub.execute_input": "2021-06-27T15:55:43.368928Z",
          "iopub.status.idle": "2021-06-27T15:55:43.381399Z",
          "shell.execute_reply.started": "2021-06-27T15:55:43.368900Z",
          "shell.execute_reply": "2021-06-27T15:55:43.380495Z"
        },
        "trusted": true,
        "id": "i4cq3otHQhp_",
        "outputId": "b88c2855-dbbf-40ef-e75d-08a703c29709"
      },
      "source": [
        "import numpy as np # linear algebra\n",
        "import pandas as pd # data processing, CSV file I/O (e.g. pd.read_csv)\n",
        "\n",
        "import os\n",
        "for dirname, _, filenames in os.walk('/kaggle/input'):\n",
        "    for filename in filenames:\n",
        "        print(os.path.join(dirname, filename))\n",
        "        \n",
        "import matplotlib.pyplot as plt"
      ],
      "execution_count": null,
      "outputs": [
        {
          "output_type": "stream",
          "text": [
            "/kaggle/input/az-handwritten-alphabets-in-csv-format/A_Z Handwritten Data.csv\n",
            "/kaggle/input/az-handwritten-alphabets-in-csv-format/A_Z Handwritten Data/A_Z Handwritten Data.csv\n"
          ],
          "name": "stdout"
        }
      ]
    },
    {
      "cell_type": "code",
      "metadata": {
        "execution": {
          "iopub.status.busy": "2021-06-27T15:55:46.085827Z",
          "iopub.execute_input": "2021-06-27T15:55:46.086208Z",
          "iopub.status.idle": "2021-06-27T15:56:13.261856Z",
          "shell.execute_reply.started": "2021-06-27T15:55:46.086169Z",
          "shell.execute_reply": "2021-06-27T15:56:13.261014Z"
        },
        "trusted": true,
        "id": "NxhKxrCuQhqD"
      },
      "source": [
        "img_data = pd.read_csv(\"/kaggle/input/az-handwritten-alphabets-in-csv-format/A_Z Handwritten Data.csv\")\n",
        "img_dataset = img_data.iloc[: , 1:]\n",
        "target = img_data.iloc[: , 0]"
      ],
      "execution_count": null,
      "outputs": []
    },
    {
      "cell_type": "code",
      "metadata": {
        "execution": {
          "iopub.status.busy": "2021-06-27T15:56:37.414518Z",
          "iopub.execute_input": "2021-06-27T15:56:37.415104Z",
          "iopub.status.idle": "2021-06-27T15:56:37.548355Z",
          "shell.execute_reply.started": "2021-06-27T15:56:37.415070Z",
          "shell.execute_reply": "2021-06-27T15:56:37.547678Z"
        },
        "trusted": true,
        "id": "BgoF0M_kQhqE",
        "outputId": "48082158-6299-4cae-afc9-96b2da2f4861"
      },
      "source": [
        "plt.imshow(img_dataset.iloc[100000].to_numpy().reshape((28, 28)), cmap=\"gray\")"
      ],
      "execution_count": null,
      "outputs": [
        {
          "output_type": "execute_result",
          "data": {
            "text/plain": [
              "<matplotlib.image.AxesImage at 0x7f4ff7043310>"
            ]
          },
          "metadata": {
            "tags": []
          },
          "execution_count": 42
        },
        {
          "output_type": "display_data",
          "data": {
            "text/plain": [
              "<Figure size 432x288 with 1 Axes>"
            ],
            "image/png": "[encoded data removed]"
          },
          "metadata": {
            "tags": [],
            "needs_background": "light"
          }
        }
      ]
    },
    {
      "cell_type": "code",
      "metadata": {
        "execution": {
          "iopub.status.busy": "2021-06-27T15:56:30.372184Z",
          "iopub.execute_input": "2021-06-27T15:56:30.372688Z",
          "iopub.status.idle": "2021-06-27T15:56:30.377987Z",
          "shell.execute_reply.started": "2021-06-27T15:56:30.372657Z",
          "shell.execute_reply": "2021-06-27T15:56:30.377188Z"
        },
        "trusted": true,
        "id": "w-3I9AjAQhqF",
        "outputId": "983baaa3-21f8-47a3-b787-7f0555c452ab"
      },
      "source": [
        "print(\"test\")"
      ],
      "execution_count": null,
      "outputs": [
        {
          "output_type": "execute_result",
          "data": {
            "text/plain": [
              "11"
            ]
          },
          "metadata": {
            "tags": []
          },
          "execution_count": 41
        }
      ]
    },
    {
      "cell_type": "code",
      "metadata": {
        "id": "Cal91sXBQhqG"
      },
      "source": [
        ""
      ],
      "execution_count": null,
      "outputs": []
    },
    {
      "cell_type": "code",
      "metadata": {
        "id": "7zGpu9DVQhqG",
        "colab": {
          "base_uri": "https://localhost:8080/"
        },
        "outputId": "95c5f773-2435-4223-98af-5fa45e59fd3f"
      },
      "source": [
        "import string\n",
        "alphabet = []\n",
        "for i in string.ascii_lowercase:\n",
        "    alphabet.append(i)\n",
        "print(alphabet)"
      ],
      "execution_count": 3,
      "outputs": [
        {
          "output_type": "stream",
          "text": [
            "['a', 'b', 'c', 'd', 'e', 'f', 'g', 'h', 'i', 'j', 'k', 'l', 'm', 'n', 'o', 'p', 'q', 'r', 's', 't', 'u', 'v', 'w', 'x', 'y', 'z']\n"
          ],
          "name": "stdout"
        }
      ]
    }
  ]
}